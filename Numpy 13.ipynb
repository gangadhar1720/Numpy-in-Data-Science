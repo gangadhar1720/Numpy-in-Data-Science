{
 "cells": [
  {
   "cell_type": "markdown",
   "id": "0ac7b2d8-123e-4e3c-949c-5e546f1abd73",
   "metadata": {},
   "source": [
    "# Importing numpy library"
   ]
  },
  {
   "cell_type": "code",
   "execution_count": 3,
   "id": "238d4e91-51be-4039-872b-5a4b74866166",
   "metadata": {},
   "outputs": [],
   "source": [
    "import numpy as np"
   ]
  },
  {
   "cell_type": "markdown",
   "id": "b2614b74-6d4a-4bca-9581-8b69755eafdf",
   "metadata": {},
   "source": [
    "# creating 1D Array"
   ]
  },
  {
   "cell_type": "code",
   "execution_count": 66,
   "id": "06123183-b26c-4235-a736-3aaec1c68aae",
   "metadata": {},
   "outputs": [
    {
     "name": "stdout",
     "output_type": "stream",
     "text": [
      "[1 2 3 4 5]\n",
      "[ 6  7  8  9 10]\n"
     ]
    }
   ],
   "source": [
    "a1=np.array([1,2,3,4,5])\n",
    "print(a1)\n",
    "a2=np.array([6,7,8,9,10])\n",
    "print(a2)"
   ]
  },
  {
   "cell_type": "markdown",
   "id": "8521c758-4a37-4a42-a63d-6a296eabb4e7",
   "metadata": {},
   "source": [
    "# Basic operations on array"
   ]
  },
  {
   "cell_type": "code",
   "execution_count": 69,
   "id": "47fa6d95-43bb-412d-ac9e-481053a4b8aa",
   "metadata": {},
   "outputs": [
    {
     "name": "stdout",
     "output_type": "stream",
     "text": [
      "Addition of two arrays is \n",
      "[ 7  9 11 13 15]\n",
      "Subtraction of two arrays is\n",
      "[5 5 5 5 5]\n"
     ]
    }
   ],
   "source": [
    "#Addition of two arrays\n",
    "print(\"Addition of two arrays is \")\n",
    "print(a1+a2)\n",
    "#Subtraction of two arrays\n",
    "print(\"Subtraction of two arrays is\")\n",
    "print(a2-a1)"
   ]
  },
  {
   "cell_type": "markdown",
   "id": "c4dfee84-2f13-40b9-9a7d-c35f73629570",
   "metadata": {},
   "source": [
    "# Creating numpy 2D array of random integers between 1 and 30"
   ]
  },
  {
   "cell_type": "code",
   "execution_count": 7,
   "id": "c8d8297a-c0fd-4f1b-9301-cc10e432ce9f",
   "metadata": {},
   "outputs": [
    {
     "name": "stdout",
     "output_type": "stream",
     "text": [
      "[[29  3 14 26 20  7]\n",
      " [ 4  3 12 18 19  2]\n",
      " [22 28 25 18  7 17]\n",
      " [ 2 22 22 19 18 13]\n",
      " [26  2 11 16  9 16]\n",
      " [16  7 14  5  9 14]]\n"
     ]
    }
   ],
   "source": [
    "arr=np.random.randint(1,30,size=(6,6))\n",
    "print(arr)"
   ]
  },
  {
   "cell_type": "markdown",
   "id": "70249cdc-2649-400a-92b2-2d9b8b2ee149",
   "metadata": {},
   "source": [
    "# Transposing of the matrix"
   ]
  },
  {
   "cell_type": "code",
   "execution_count": 20,
   "id": "6b4f8b61-b24d-4fe4-ba22-6601a2ec84c2",
   "metadata": {},
   "outputs": [
    {
     "name": "stdout",
     "output_type": "stream",
     "text": [
      "[[20 26 29 24  4  9]\n",
      " [ 6 13 23 22 18 21]\n",
      " [25 21  2  6 11  2]\n",
      " [11 11 13 24  7 22]\n",
      " [ 8 25 12  1 19  3]\n",
      " [14 15  5 11 10  4]]\n"
     ]
    }
   ],
   "source": [
    "arr_t=arr.T\n",
    "print(arr_t)"
   ]
  },
  {
   "cell_type": "markdown",
   "id": "068fe5c2-a222-4247-bbe0-b327ffd22152",
   "metadata": {},
   "source": [
    "# Vectorized computations of 2d array"
   ]
  },
  {
   "cell_type": "code",
   "execution_count": 25,
   "id": "d97ddd3d-d13e-4af0-9b6d-d6fdad39fa4b",
   "metadata": {},
   "outputs": [
    {
     "name": "stdout",
     "output_type": "stream",
     "text": [
      "Addition of matrix with its transpose \n",
      "[[40 32 54 35 12 23]\n",
      " [32 26 44 33 43 36]\n",
      " [54 44  4 19 23  7]\n",
      " [35 33 19 48  8 33]\n",
      " [12 43 23  8 38 13]\n",
      " [23 36  7 33 13  8]]\n",
      "Subtraction of matrix with its transpose \n",
      "[[  0 -20  -4 -13   4   5]\n",
      " [ 20   0  -2 -11   7  -6]\n",
      " [  4   2   0   7   1   3]\n",
      " [ 13  11  -7   0  -6 -11]\n",
      " [ -4  -7  -1   6   0   7]\n",
      " [ -5   6  -3  11  -7   0]]\n"
     ]
    }
   ],
   "source": [
    "print(\"Addition of matrix with its transpose \")\n",
    "print(arr+arr_t)\n",
    "print(\"Subtraction of matrix with its transpose \")\n",
    "print(arr-arr_t)"
   ]
  },
  {
   "cell_type": "markdown",
   "id": "b1a6f246-580f-44c0-80f7-16eabc5505a3",
   "metadata": {},
   "source": [
    "# Array properties"
   ]
  },
  {
   "cell_type": "code",
   "execution_count": 28,
   "id": "d5d932fe-cf46-409f-97c7-70fa60d966f4",
   "metadata": {},
   "outputs": [
    {
     "name": "stdout",
     "output_type": "stream",
     "text": [
      "\n",
      "Array Shape:\n",
      " (6, 6)\n",
      "Array Size:\n",
      " 36\n",
      "Array Dimension:\n",
      " 2\n",
      "Array Data Type:\n",
      " int32\n"
     ]
    }
   ],
   "source": [
    "print(\"\\nArray Shape:\\n\", arr.shape)\n",
    "print(\"Array Size:\\n\", arr.size)\n",
    "print(\"Array Dimension:\\n\", arr.ndim)\n",
    "print(\"Array Data Type:\\n\", arr.dtype)"
   ]
  },
  {
   "cell_type": "markdown",
   "id": "3fe2d203-d5d6-42b1-8939-78a10ebe45e6",
   "metadata": {},
   "source": [
    "# changing elements in 1st row"
   ]
  },
  {
   "cell_type": "code",
   "execution_count": 33,
   "id": "f332ea46-f08f-43b2-84ec-a22cde62ff11",
   "metadata": {},
   "outputs": [
    {
     "name": "stdout",
     "output_type": "stream",
     "text": [
      "[[ 4  5  6  7  8  9]\n",
      " [26 13 21 11 25 15]\n",
      " [29 23  2 13 12  5]\n",
      " [24 22  6 24  1 11]\n",
      " [ 4 18 11  7 19 10]\n",
      " [ 9 21  2 22  3  4]]\n"
     ]
    }
   ],
   "source": [
    "arr[0]=[4,5,6,7,8,9]\n",
    "print(arr)"
   ]
  },
  {
   "cell_type": "markdown",
   "id": "e8010b70-c9e8-4973-bcb7-7f3e433e45dc",
   "metadata": {},
   "source": [
    "# Array indexing"
   ]
  },
  {
   "cell_type": "code",
   "execution_count": 36,
   "id": "fea4b6c3-31b2-4767-9431-4127d19294e6",
   "metadata": {},
   "outputs": [
    {
     "name": "stdout",
     "output_type": "stream",
     "text": [
      "Element of 1st row and 3rd column is 6\n",
      "Element of 5th row and 4th column is 7\n"
     ]
    }
   ],
   "source": [
    "print(\"Element of 1st row and 3rd column is\",arr[0][2])\n",
    "print(\"Element of 5th row and 4th column is\",arr[4][3])"
   ]
  },
  {
   "cell_type": "markdown",
   "id": "be0950f5-f12f-41c8-92a2-a1c115924752",
   "metadata": {},
   "source": [
    "# Array Slicing"
   ]
  },
  {
   "cell_type": "markdown",
   "id": "f6b89926-866a-49b2-aafc-25dee23f56d8",
   "metadata": {},
   "source": [
    "slicing array to a sub array"
   ]
  },
  {
   "cell_type": "code",
   "execution_count": 45,
   "id": "56c8a249-c294-4356-aef7-b2b54918e426",
   "metadata": {},
   "outputs": [
    {
     "name": "stdout",
     "output_type": "stream",
     "text": [
      "[[ 4  5  6]\n",
      " [26 13 21]\n",
      " [29 23  2]]\n"
     ]
    }
   ],
   "source": [
    "sub_arr=arr[:3,:3]   #sub array of 1st 3 rows and 1st 3 columns of arr\n",
    "print(sub_arr)"
   ]
  },
  {
   "cell_type": "markdown",
   "id": "7243789c-0762-4a4b-a365-9463d4b9b1d4",
   "metadata": {},
   "source": [
    "# Reshaping of array"
   ]
  },
  {
   "cell_type": "markdown",
   "id": "9a95dadb-33aa-4af4-8416-1dd86fd6e0d4",
   "metadata": {},
   "source": [
    "reshaping 6*6 matrix to 9*4 matrix"
   ]
  },
  {
   "cell_type": "code",
   "execution_count": 51,
   "id": "43e2b8c6-9c17-4345-adad-d2667668d25a",
   "metadata": {},
   "outputs": [
    {
     "name": "stdout",
     "output_type": "stream",
     "text": [
      "Reshaped array is\n",
      "[[ 4  5  6  7]\n",
      " [ 8  9 26 13]\n",
      " [21 11 25 15]\n",
      " [29 23  2 13]\n",
      " [12  5 24 22]\n",
      " [ 6 24  1 11]\n",
      " [ 4 18 11  7]\n",
      " [19 10  9 21]\n",
      " [ 2 22  3  4]]\n"
     ]
    }
   ],
   "source": [
    "reshaped_arr=arr.reshape(9,4)\n",
    "print(\"Reshaped array is\")\n",
    "print(reshaped_arr)"
   ]
  },
  {
   "cell_type": "markdown",
   "id": "3fa15f60-9082-4a1d-b17c-cf0d4d0fb65a",
   "metadata": {},
   "source": [
    "# Mathematical Operations"
   ]
  },
  {
   "cell_type": "markdown",
   "id": "5c916135-1a4e-4566-b0fb-0ebb1a817c46",
   "metadata": {},
   "source": [
    "adding 2 to every element of the arr"
   ]
  },
  {
   "cell_type": "code",
   "execution_count": 57,
   "id": "9a3b4efb-bd29-459f-83db-c723928179f0",
   "metadata": {},
   "outputs": [
    {
     "name": "stdout",
     "output_type": "stream",
     "text": [
      "array matrix after adding 2 to each elemant of the arr\n",
      "[[ 6  7  8  9 10 11]\n",
      " [28 15 23 13 27 17]\n",
      " [31 25  4 15 14  7]\n",
      " [26 24  8 26  3 13]\n",
      " [ 6 20 13  9 21 12]\n",
      " [11 23  4 24  5  6]]\n"
     ]
    }
   ],
   "source": [
    "arr_2=arr+2\n",
    "print(\"array matrix after adding 2 to each elemant of the arr\")\n",
    "print(arr_2)"
   ]
  },
  {
   "cell_type": "markdown",
   "id": "d6d7bdbc-deea-42f0-8d17-bbbff2647e2e",
   "metadata": {},
   "source": [
    "# sum of elements of an array"
   ]
  },
  {
   "cell_type": "code",
   "execution_count": 13,
   "id": "b02de33c-7581-40f9-9ce8-d6ad1aaa0d07",
   "metadata": {},
   "outputs": [
    {
     "name": "stdout",
     "output_type": "stream",
     "text": [
      "sum of all elements\n",
      "515\n",
      "sum of all elements of each column wise\n",
      "[ 99  65  98 102  82  69]\n",
      "sum of all elements of each column wise\n",
      "[ 99  58 117  96  80  65]\n"
     ]
    }
   ],
   "source": [
    "#sum of elements of each row and column\n",
    "print(\"sum of all elements\")\n",
    "print(np.sum(arr) )#sum of all elements\n",
    "print(\"sum of all elements of each column wise\")\n",
    "print(np.sum(arr,axis=0))  # Column wise\n",
    "print(\"sum of all elements of each column wise\")\n",
    "print(np.sum(arr,axis=1))  # Row wise"
   ]
  },
  {
   "cell_type": "markdown",
   "id": "fa666fb7-3201-4a21-8714-a415fe1daa30",
   "metadata": {},
   "source": [
    "# mean, median, standard deviation"
   ]
  },
  {
   "cell_type": "code",
   "execution_count": 27,
   "id": "fdbfd70e-120a-410e-a5ae-4f246c1cfd95",
   "metadata": {},
   "outputs": [
    {
     "name": "stdout",
     "output_type": "stream",
     "text": [
      "mean of all elements \n",
      "14.305555555555555\n",
      "Median of all elements\n",
      "15.0\n",
      "standard deviation of all elements\n",
      "7.887470529772183\n",
      "mean of all elements of each column wise\n",
      "[16.5        10.83333333 16.33333333 17.         13.66666667 11.5       ]\n",
      "mean of all elements of each column wise\n",
      "[16.5         9.66666667 19.5        16.         13.33333333 10.83333333]\n",
      "median of all elements of each column wise\n",
      "[19.   5.  14.  18.  13.5 13.5]\n",
      "median of all elements of each column wise\n",
      "[17.   8.  20.  18.5 13.5 11.5]\n"
     ]
    }
   ],
   "source": [
    "print(\"mean of all elements \")  \n",
    "print(np.mean(arr))\n",
    "print(\"Median of all elements\")\n",
    "print(np.median(arr))\n",
    "print(\"standard deviation of all elements\")\n",
    "print(np.std(arr))\n",
    "print(\"mean of all elements of each column wise\")\n",
    "print(np.mean(arr,axis=0))  # Column wise\n",
    "print(\"mean of all elements of each column wise\")\n",
    "print(np.mean(arr,axis=1))  # Row wise\n",
    "print(\"median of all elements of each column wise\")\n",
    "print(np.median(arr,axis=0))  # Column wise\n",
    "print(\"median of all elements of each column wise\")\n",
    "print(np.median(arr,axis=1))  # Row wise"
   ]
  },
  {
   "cell_type": "markdown",
   "id": "81d8464f-d8fb-4d98-a651-c7582f618f95",
   "metadata": {},
   "source": [
    "# Data Analysis Using Numpy"
   ]
  },
  {
   "cell_type": "markdown",
   "id": "c4e5592d-2fa5-4c6b-8940-b050d243fe16",
   "metadata": {},
   "source": [
    "# Correlation Coefficient of two arrays"
   ]
  },
  {
   "cell_type": "code",
   "execution_count": 36,
   "id": "8b717e80-993a-4d75-b780-f0d6767b0fbf",
   "metadata": {},
   "outputs": [
    {
     "name": "stdout",
     "output_type": "stream",
     "text": [
      "Array 1:\n",
      "[31 48 24 13 23  8 33 73 53 16]\n",
      "Array 2:\n",
      "[35 56 61 71 41 83 39 22 75 39]\n",
      "Correalation Matrix is \n",
      "[[ 1.         -0.42378593]\n",
      " [-0.42378593  1.        ]]\n"
     ]
    }
   ],
   "source": [
    "arr1=np.random.randint(1,100,10)\n",
    "arr2=np.random.randint(1,100,10)\n",
    "print(\"Array 1:\")\n",
    "print(arr1)\n",
    "print(\"Array 2:\")\n",
    "print(arr2)\n",
    "print(\"Correalation Matrix is \")\n",
    "print(np.corrcoef(arr1,arr2))"
   ]
  },
  {
   "cell_type": "markdown",
   "id": "18a6f00a-e684-43a3-ba01-69dd220fc4cc",
   "metadata": {},
   "source": [
    "# Percentile "
   ]
  },
  {
   "cell_type": "code",
   "execution_count": 53,
   "id": "66a9dc57-8aed-4347-874e-2b3c35e5b945",
   "metadata": {},
   "outputs": [
    {
     "name": "stdout",
     "output_type": "stream",
     "text": [
      "80th percentile of array 1 is \n",
      "49.0\n"
     ]
    }
   ],
   "source": [
    "print(\"80th percentile of array 1 is \")\n",
    "print(np.percentile(arr1,80))"
   ]
  },
  {
   "cell_type": "markdown",
   "id": "f9418943-a208-4429-8e49-e79ac4f07d00",
   "metadata": {},
   "source": [
    "# Advantages of Numpy"
   ]
  },
  {
   "cell_type": "markdown",
   "id": "c2dd6522-2c50-4952-a7b1-0e071c5b9dd5",
   "metadata": {},
   "source": [
    "Performance and Speed: NumPy is much faster than traditional Python data structures like lists due to its C implementation, vectorized operations, and use of optimized libraries\n",
    "\n",
    "Memory Efficiency: NumPy arrays use less memory as they store elements of the same type in contiguous blocks, unlike Python lists that require memory for both data and type information.\n",
    "\n",
    "Powerful Array Operations: Supports broadcasting, universal functions (ufuncs), and rich mathematical functions for efficient element-wise operations and complex computations.\n",
    "\n",
    "Support for Multi-Dimensional Arrays: Allows for easy creation, reshaping, slicing, and manipulation of multi-dimensional arrays, essential for handling large datasets and tensors."
   ]
  },
  {
   "cell_type": "markdown",
   "id": "eabdbc78-1142-4963-9546-a38ffefa7ab7",
   "metadata": {},
   "source": [
    "# Real world applications"
   ]
  },
  {
   "cell_type": "markdown",
   "id": "0c3817e2-cc5c-4fc5-81e7-37911aba9efd",
   "metadata": {},
   "source": [
    "Machine Learning: Efficient data preprocessing, feature scaling, and implementation of algorithms like regression and neural networks.\n",
    "\n",
    "Finance: Time series analysis, portfolio optimization, and Monte Carlo simulations for risk assessment.\n",
    "\n",
    "Scientific Research: Simulations and data analysis in physics, biology, and astronomy.\n",
    "\n",
    "Image Processing: Image manipulation, filtering, and medical imaging tasks.\n",
    "\n",
    "AI and Deep Learning: Neural network computations and natural language processing."
   ]
  }
 ],
 "metadata": {
  "kernelspec": {
   "display_name": "Python 3 (ipykernel)",
   "language": "python",
   "name": "python3"
  },
  "language_info": {
   "codemirror_mode": {
    "name": "ipython",
    "version": 3
   },
   "file_extension": ".py",
   "mimetype": "text/x-python",
   "name": "python",
   "nbconvert_exporter": "python",
   "pygments_lexer": "ipython3",
   "version": "3.12.4"
  }
 },
 "nbformat": 4,
 "nbformat_minor": 5
}
